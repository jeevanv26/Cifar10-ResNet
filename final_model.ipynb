{
  "cells": [
    {
      "cell_type": "code",
      "execution_count": 1,
      "id": "cea773d8",
      "metadata": {
        "execution": {
          "iopub.execute_input": "2024-04-09T17:28:57.154391Z",
          "iopub.status.busy": "2024-04-09T17:28:57.153460Z",
          "iopub.status.idle": "2024-04-09T17:29:03.721500Z",
          "shell.execute_reply": "2024-04-09T17:29:03.720439Z"
        },
        "id": "cea773d8",
        "papermill": {
          "duration": 6.578099,
          "end_time": "2024-04-09T17:29:03.724062",
          "exception": false,
          "start_time": "2024-04-09T17:28:57.145963",
          "status": "completed"
        },
        "tags": []
      },
      "outputs": [],
      "source": [
        "import torch\n",
        "import torchvision\n",
        "import torchvision.transforms as transforms\n",
        "import matplotlib.pyplot as plt\n",
        "import torch.nn as nn\n",
        "import numpy as np\n",
        "from torch import Tensor\n",
        "from typing import Type\n",
        "from torchvision.transforms.autoaugment import AutoAugmentPolicy"
      ]
    },
    {
      "cell_type": "code",
      "execution_count": 2,
      "id": "52f18c61",
      "metadata": {
        "execution": {
          "iopub.execute_input": "2024-04-09T17:29:03.739075Z",
          "iopub.status.busy": "2024-04-09T17:29:03.737022Z",
          "iopub.status.idle": "2024-04-09T17:29:03.742717Z",
          "shell.execute_reply": "2024-04-09T17:29:03.741803Z"
        },
        "id": "52f18c61",
        "papermill": {
          "duration": 0.014823,
          "end_time": "2024-04-09T17:29:03.744634",
          "exception": false,
          "start_time": "2024-04-09T17:29:03.729811",
          "status": "completed"
        },
        "tags": []
      },
      "outputs": [],
      "source": [
        "# Data transforms (normalization & data augmentation)\n",
        "# stats = ((0.4914, 0.4822, 0.4465), (0.2023, 0.1994, 0.2010))\n",
        "# train_tfms = transforms.Compose([transforms.Resize((64, 64)),\n",
        "#                          transforms.RandomCrop(64, padding=4, padding_mode='reflect'),\n",
        "#                          transforms.RandomHorizontalFlip(),\n",
        "#                          transforms.ToTensor(),\n",
        "#                          transforms.Normalize(*stats,inplace=True)])\n",
        "# valid_tfms = transforms.Compose([transforms.Resize((64, 64)), transforms.ToTensor(), transforms.Normalize(*stats)])"
      ]
    },
    {
      "cell_type": "code",
      "execution_count": 3,
      "id": "4b61d574",
      "metadata": {
        "execution": {
          "iopub.execute_input": "2024-04-09T17:29:03.756742Z",
          "iopub.status.busy": "2024-04-09T17:29:03.756403Z",
          "iopub.status.idle": "2024-04-09T17:29:03.762430Z",
          "shell.execute_reply": "2024-04-09T17:29:03.761477Z"
        },
        "papermill": {
          "duration": 0.014333,
          "end_time": "2024-04-09T17:29:03.764336",
          "exception": false,
          "start_time": "2024-04-09T17:29:03.750003",
          "status": "completed"
        },
        "tags": [],
        "id": "4b61d574"
      },
      "outputs": [],
      "source": [
        "train_tfms = transforms.Compose([\n",
        "    transforms.RandomHorizontalFlip(),\n",
        "    transforms.RandomRotation(10),\n",
        "    transforms.RandomCrop(32, padding=4),\n",
        "    transforms.ToTensor(),\n",
        "    transforms.Normalize((0.5, 0.5, 0.5), (0.5, 0.5, 0.5))\n",
        "])\n",
        "\n",
        "# Define transformations for test data\n",
        "valid_tfms = transforms.Compose([\n",
        "    transforms.ToTensor(),\n",
        "    transforms.Normalize((0.5, 0.5, 0.5), (0.5, 0.5, 0.5))\n",
        "])"
      ]
    },
    {
      "cell_type": "code",
      "execution_count": 4,
      "id": "efaafc6d",
      "metadata": {
        "execution": {
          "iopub.execute_input": "2024-04-09T17:29:03.776465Z",
          "iopub.status.busy": "2024-04-09T17:29:03.775704Z",
          "iopub.status.idle": "2024-04-09T17:29:14.362502Z",
          "shell.execute_reply": "2024-04-09T17:29:14.361669Z"
        },
        "id": "efaafc6d",
        "outputId": "22fcc986-5853-46bc-e114-885c86c37cb0",
        "papermill": {
          "duration": 10.595187,
          "end_time": "2024-04-09T17:29:14.364903",
          "exception": false,
          "start_time": "2024-04-09T17:29:03.769716",
          "status": "completed"
        },
        "tags": [],
        "colab": {
          "base_uri": "https://localhost:8080/"
        }
      },
      "outputs": [
        {
          "output_type": "stream",
          "name": "stdout",
          "text": [
            "Downloading https://www.cs.toronto.edu/~kriz/cifar-10-python.tar.gz to ./data/cifar-10-python.tar.gz\n"
          ]
        },
        {
          "output_type": "stream",
          "name": "stderr",
          "text": [
            "100%|██████████| 170498071/170498071 [00:13<00:00, 12411633.74it/s]\n"
          ]
        },
        {
          "output_type": "stream",
          "name": "stdout",
          "text": [
            "Extracting ./data/cifar-10-python.tar.gz to ./data\n",
            "Files already downloaded and verified\n"
          ]
        }
      ],
      "source": [
        "traindata = torchvision.datasets.CIFAR10(root='./data', train=True, download=True, transform=train_tfms)\n",
        "validationdata = torchvision.datasets.CIFAR10(root='./data', train=False, download=True, transform=valid_tfms)"
      ]
    },
    {
      "cell_type": "code",
      "execution_count": 5,
      "id": "05a4e176",
      "metadata": {
        "execution": {
          "iopub.execute_input": "2024-04-09T17:29:14.387340Z",
          "iopub.status.busy": "2024-04-09T17:29:14.386997Z",
          "iopub.status.idle": "2024-04-09T17:29:14.393727Z",
          "shell.execute_reply": "2024-04-09T17:29:14.392722Z"
        },
        "id": "05a4e176",
        "outputId": "80a5b28d-8ac0-48c0-b083-40c7d1c169a3",
        "papermill": {
          "duration": 0.020293,
          "end_time": "2024-04-09T17:29:14.395714",
          "exception": false,
          "start_time": "2024-04-09T17:29:14.375421",
          "status": "completed"
        },
        "tags": [],
        "colab": {
          "base_uri": "https://localhost:8080/"
        }
      },
      "outputs": [
        {
          "output_type": "execute_result",
          "data": {
            "text/plain": [
              "50000"
            ]
          },
          "metadata": {},
          "execution_count": 5
        }
      ],
      "source": [
        "len(traindata)"
      ]
    },
    {
      "cell_type": "code",
      "execution_count": 6,
      "id": "d1bd4e0f",
      "metadata": {
        "execution": {
          "iopub.execute_input": "2024-04-09T17:29:14.417756Z",
          "iopub.status.busy": "2024-04-09T17:29:14.417181Z",
          "iopub.status.idle": "2024-04-09T17:29:14.422896Z",
          "shell.execute_reply": "2024-04-09T17:29:14.421997Z"
        },
        "id": "d1bd4e0f",
        "outputId": "85cc6611-a491-4173-cdc9-9ccd9c358c7c",
        "papermill": {
          "duration": 0.018723,
          "end_time": "2024-04-09T17:29:14.424746",
          "exception": false,
          "start_time": "2024-04-09T17:29:14.406023",
          "status": "completed"
        },
        "tags": [],
        "colab": {
          "base_uri": "https://localhost:8080/"
        }
      },
      "outputs": [
        {
          "output_type": "execute_result",
          "data": {
            "text/plain": [
              "10000"
            ]
          },
          "metadata": {},
          "execution_count": 6
        }
      ],
      "source": [
        "len(validationdata)"
      ]
    },
    {
      "cell_type": "code",
      "execution_count": 7,
      "id": "9ae5ae7d",
      "metadata": {
        "execution": {
          "iopub.execute_input": "2024-04-09T17:29:14.447380Z",
          "iopub.status.busy": "2024-04-09T17:29:14.446604Z",
          "iopub.status.idle": "2024-04-09T17:29:14.529056Z",
          "shell.execute_reply": "2024-04-09T17:29:14.527823Z"
        },
        "id": "9ae5ae7d",
        "outputId": "9e9402ff-c047-453e-9c8a-ba4e45da0c41",
        "papermill": {
          "duration": 0.096221,
          "end_time": "2024-04-09T17:29:14.531501",
          "exception": false,
          "start_time": "2024-04-09T17:29:14.435280",
          "status": "completed"
        },
        "tags": [],
        "colab": {
          "base_uri": "https://localhost:8080/"
        }
      },
      "outputs": [
        {
          "output_type": "stream",
          "name": "stdout",
          "text": [
            "torch.Size([3, 32, 32]) 6\n"
          ]
        }
      ],
      "source": [
        "image, label = traindata[0]\n",
        "print(image.shape, label)"
      ]
    },
    {
      "cell_type": "code",
      "execution_count": 8,
      "id": "4a15ff11",
      "metadata": {
        "execution": {
          "iopub.execute_input": "2024-04-09T17:29:14.555672Z",
          "iopub.status.busy": "2024-04-09T17:29:14.555314Z",
          "iopub.status.idle": "2024-04-09T17:29:14.560347Z",
          "shell.execute_reply": "2024-04-09T17:29:14.559428Z"
        },
        "id": "4a15ff11",
        "papermill": {
          "duration": 0.01893,
          "end_time": "2024-04-09T17:29:14.562363",
          "exception": false,
          "start_time": "2024-04-09T17:29:14.543433",
          "status": "completed"
        },
        "tags": []
      },
      "outputs": [],
      "source": [
        "trainDataLoder = torch.utils.data.DataLoader(traindata, batch_size=64, num_workers=2, shuffle=True)\n",
        "validationDataLoder = torch.utils.data.DataLoader(validationdata, batch_size=64, num_workers=2, shuffle=False)"
      ]
    },
    {
      "cell_type": "markdown",
      "id": "d2fb34d6",
      "metadata": {
        "id": "d2fb34d6",
        "papermill": {
          "duration": 0.010098,
          "end_time": "2024-04-09T17:29:14.582967",
          "exception": false,
          "start_time": "2024-04-09T17:29:14.572869",
          "status": "completed"
        },
        "tags": []
      },
      "source": [
        "##Custom ResNet"
      ]
    },
    {
      "cell_type": "code",
      "execution_count": 9,
      "id": "5857299b",
      "metadata": {
        "execution": {
          "iopub.execute_input": "2024-04-09T17:29:14.605953Z",
          "iopub.status.busy": "2024-04-09T17:29:14.605092Z",
          "iopub.status.idle": "2024-04-09T17:29:14.618095Z",
          "shell.execute_reply": "2024-04-09T17:29:14.616914Z"
        },
        "id": "5857299b",
        "papermill": {
          "duration": 0.027041,
          "end_time": "2024-04-09T17:29:14.620274",
          "exception": false,
          "start_time": "2024-04-09T17:29:14.593233",
          "status": "completed"
        },
        "tags": []
      },
      "outputs": [],
      "source": [
        "def conv_block(in_channels, out_channels, pool=False):\n",
        "    layers = [nn.Conv2d(in_channels, out_channels, kernel_size=3, padding=1),\n",
        "              nn.BatchNorm2d(out_channels),\n",
        "              nn.ReLU(inplace=True)]\n",
        "    if pool:\n",
        "      layers.append(nn.MaxPool2d(2))\n",
        "      #layers.append(nn.Dropout(0.1))\n",
        "    return nn.Sequential(*layers)\n",
        "\n",
        "class ResNet9(nn.Module):\n",
        "    def __init__(self, in_channels, num_classes):\n",
        "        super().__init__()\n",
        "\n",
        "        self.conv1 = conv_block(in_channels, 64)\n",
        "        self.res1 = nn.Sequential(conv_block(64, 64), conv_block(64, 64))\n",
        "\n",
        "        self.conv2 = conv_block(64, 128, pool=True)\n",
        "        self.res2 = nn.Sequential(conv_block(128, 128), conv_block(128, 128))\n",
        "        self.res2_1 = nn.Sequential(conv_block(128, 128), conv_block(128, 128))\n",
        "\n",
        "        self.conv3 = conv_block(128, 256, pool=True)\n",
        "        self.res3 = nn.Sequential(conv_block(256, 256), conv_block(256, 256))\n",
        "        self.res3_1 = nn.Sequential(conv_block(256, 256), conv_block(256, 256))\n",
        "\n",
        "        self.conv4 = conv_block(256, 512, pool=True)\n",
        "\n",
        "        self.classifier = nn.Sequential(nn.MaxPool2d(4),\n",
        "                                        nn.Flatten(),\n",
        "                                        #nn.Dropout(0.5),\n",
        "                                        nn.Linear(512, num_classes)\n",
        "                                       )\n",
        "\n",
        "    def forward(self, xb):\n",
        "        out = self.conv1(xb)\n",
        "        out = self.res1(out) + out\n",
        "        out = self.conv2(out)\n",
        "        out = self.res2(out) + out\n",
        "        out = self.res2_1(out) + out\n",
        "        out = self.conv3(out)\n",
        "        out = self.res3(out) + out\n",
        "        out = self.res3_1(out) + out\n",
        "        out = self.conv4(out)\n",
        "        out = self.classifier(out)\n",
        "        return out"
      ]
    },
    {
      "cell_type": "code",
      "execution_count": 10,
      "id": "ed72ba32",
      "metadata": {
        "execution": {
          "iopub.execute_input": "2024-04-09T17:29:14.642911Z",
          "iopub.status.busy": "2024-04-09T17:29:14.642479Z",
          "iopub.status.idle": "2024-04-09T17:29:14.913935Z",
          "shell.execute_reply": "2024-04-09T17:29:14.912925Z"
        },
        "id": "ed72ba32",
        "papermill": {
          "duration": 0.285758,
          "end_time": "2024-04-09T17:29:14.916760",
          "exception": false,
          "start_time": "2024-04-09T17:29:14.631002",
          "status": "completed"
        },
        "tags": []
      },
      "outputs": [],
      "source": [
        "model = ResNet9(3,10).cuda()\n"
      ]
    },
    {
      "cell_type": "code",
      "execution_count": 11,
      "id": "87baf5c9",
      "metadata": {
        "execution": {
          "iopub.execute_input": "2024-04-09T17:29:14.940358Z",
          "iopub.status.busy": "2024-04-09T17:29:14.939407Z",
          "iopub.status.idle": "2024-04-09T17:29:14.945960Z",
          "shell.execute_reply": "2024-04-09T17:29:14.945107Z"
        },
        "id": "87baf5c9",
        "outputId": "732f8c29-1642-4dbc-828d-2edb09a0ccd8",
        "papermill": {
          "duration": 0.020642,
          "end_time": "2024-04-09T17:29:14.948047",
          "exception": false,
          "start_time": "2024-04-09T17:29:14.927405",
          "status": "completed"
        },
        "tags": [],
        "colab": {
          "base_uri": "https://localhost:8080/"
        }
      },
      "outputs": [
        {
          "output_type": "stream",
          "name": "stdout",
          "text": [
            "4,585,866 total parameters.\n",
            "4,585,866 training parameters.\n"
          ]
        }
      ],
      "source": [
        "total_params = sum(p.numel() for p in model.parameters())\n",
        "print(f\"{total_params:,} total parameters.\")\n",
        "total_trainable_params = sum(p.numel() for p in model.parameters() if p.requires_grad)\n",
        "print(f\"{total_trainable_params:,} training parameters.\")"
      ]
    },
    {
      "cell_type": "code",
      "source": [
        "from torchsummary import summary\n",
        "\n",
        "summary(model,(3, 32, 32))"
      ],
      "metadata": {
        "colab": {
          "base_uri": "https://localhost:8080/"
        },
        "id": "hM8sK20j9zEb",
        "outputId": "0c32bb0b-5e7e-4b0d-fb40-e7e5951e7139"
      },
      "id": "hM8sK20j9zEb",
      "execution_count": 12,
      "outputs": [
        {
          "output_type": "stream",
          "name": "stdout",
          "text": [
            "----------------------------------------------------------------\n",
            "        Layer (type)               Output Shape         Param #\n",
            "================================================================\n",
            "            Conv2d-1           [-1, 64, 32, 32]           1,792\n",
            "       BatchNorm2d-2           [-1, 64, 32, 32]             128\n",
            "              ReLU-3           [-1, 64, 32, 32]               0\n",
            "            Conv2d-4           [-1, 64, 32, 32]          36,928\n",
            "       BatchNorm2d-5           [-1, 64, 32, 32]             128\n",
            "              ReLU-6           [-1, 64, 32, 32]               0\n",
            "            Conv2d-7           [-1, 64, 32, 32]          36,928\n",
            "       BatchNorm2d-8           [-1, 64, 32, 32]             128\n",
            "              ReLU-9           [-1, 64, 32, 32]               0\n",
            "           Conv2d-10          [-1, 128, 32, 32]          73,856\n",
            "      BatchNorm2d-11          [-1, 128, 32, 32]             256\n",
            "             ReLU-12          [-1, 128, 32, 32]               0\n",
            "        MaxPool2d-13          [-1, 128, 16, 16]               0\n",
            "           Conv2d-14          [-1, 128, 16, 16]         147,584\n",
            "      BatchNorm2d-15          [-1, 128, 16, 16]             256\n",
            "             ReLU-16          [-1, 128, 16, 16]               0\n",
            "           Conv2d-17          [-1, 128, 16, 16]         147,584\n",
            "      BatchNorm2d-18          [-1, 128, 16, 16]             256\n",
            "             ReLU-19          [-1, 128, 16, 16]               0\n",
            "           Conv2d-20          [-1, 128, 16, 16]         147,584\n",
            "      BatchNorm2d-21          [-1, 128, 16, 16]             256\n",
            "             ReLU-22          [-1, 128, 16, 16]               0\n",
            "           Conv2d-23          [-1, 128, 16, 16]         147,584\n",
            "      BatchNorm2d-24          [-1, 128, 16, 16]             256\n",
            "             ReLU-25          [-1, 128, 16, 16]               0\n",
            "           Conv2d-26          [-1, 256, 16, 16]         295,168\n",
            "      BatchNorm2d-27          [-1, 256, 16, 16]             512\n",
            "             ReLU-28          [-1, 256, 16, 16]               0\n",
            "        MaxPool2d-29            [-1, 256, 8, 8]               0\n",
            "           Conv2d-30            [-1, 256, 8, 8]         590,080\n",
            "      BatchNorm2d-31            [-1, 256, 8, 8]             512\n",
            "             ReLU-32            [-1, 256, 8, 8]               0\n",
            "           Conv2d-33            [-1, 256, 8, 8]         590,080\n",
            "      BatchNorm2d-34            [-1, 256, 8, 8]             512\n",
            "             ReLU-35            [-1, 256, 8, 8]               0\n",
            "           Conv2d-36            [-1, 256, 8, 8]         590,080\n",
            "      BatchNorm2d-37            [-1, 256, 8, 8]             512\n",
            "             ReLU-38            [-1, 256, 8, 8]               0\n",
            "           Conv2d-39            [-1, 256, 8, 8]         590,080\n",
            "      BatchNorm2d-40            [-1, 256, 8, 8]             512\n",
            "             ReLU-41            [-1, 256, 8, 8]               0\n",
            "           Conv2d-42            [-1, 512, 8, 8]       1,180,160\n",
            "      BatchNorm2d-43            [-1, 512, 8, 8]           1,024\n",
            "             ReLU-44            [-1, 512, 8, 8]               0\n",
            "        MaxPool2d-45            [-1, 512, 4, 4]               0\n",
            "        MaxPool2d-46            [-1, 512, 1, 1]               0\n",
            "          Flatten-47                  [-1, 512]               0\n",
            "           Linear-48                   [-1, 10]           5,130\n",
            "================================================================\n",
            "Total params: 4,585,866\n",
            "Trainable params: 4,585,866\n",
            "Non-trainable params: 0\n",
            "----------------------------------------------------------------\n",
            "Input size (MB): 0.01\n",
            "Forward/backward pass size (MB): 14.70\n",
            "Params size (MB): 17.49\n",
            "Estimated Total Size (MB): 32.20\n",
            "----------------------------------------------------------------\n"
          ]
        }
      ]
    },
    {
      "cell_type": "code",
      "execution_count": 13,
      "id": "63591324",
      "metadata": {
        "execution": {
          "iopub.execute_input": "2024-04-09T17:29:14.971526Z",
          "iopub.status.busy": "2024-04-09T17:29:14.970813Z",
          "iopub.status.idle": "2024-04-09T17:29:14.976083Z",
          "shell.execute_reply": "2024-04-09T17:29:14.975152Z"
        },
        "id": "63591324",
        "papermill": {
          "duration": 0.019062,
          "end_time": "2024-04-09T17:29:14.977958",
          "exception": false,
          "start_time": "2024-04-09T17:29:14.958896",
          "status": "completed"
        },
        "tags": []
      },
      "outputs": [],
      "source": [
        "loss = torch.nn.CrossEntropyLoss()\n",
        "optimizer = torch.optim.Adam(model.parameters(), lr=1e-3,weight_decay = 1e-6)\n",
        "scheduler = torch.optim.lr_scheduler.ReduceLROnPlateau(optimizer, 'min')"
      ]
    },
    {
      "cell_type": "code",
      "execution_count": 14,
      "id": "4fcc9fdc",
      "metadata": {
        "execution": {
          "iopub.execute_input": "2024-04-09T17:29:15.001336Z",
          "iopub.status.busy": "2024-04-09T17:29:15.000624Z",
          "iopub.status.idle": "2024-04-09T17:29:15.005550Z",
          "shell.execute_reply": "2024-04-09T17:29:15.004593Z"
        },
        "id": "4fcc9fdc",
        "papermill": {
          "duration": 0.01875,
          "end_time": "2024-04-09T17:29:15.007496",
          "exception": false,
          "start_time": "2024-04-09T17:29:14.988746",
          "status": "completed"
        },
        "tags": []
      },
      "outputs": [],
      "source": [
        "def calculate_accuracy(outputs, labels):\n",
        "    _, preds = torch.max(outputs, dim=1)\n",
        "    return torch.tensor(torch.sum(preds == labels).item() / len(preds))"
      ]
    },
    {
      "cell_type": "code",
      "source": [],
      "metadata": {
        "id": "3nVOct3SDJYW"
      },
      "id": "3nVOct3SDJYW",
      "execution_count": null,
      "outputs": []
    },
    {
      "cell_type": "code",
      "execution_count": 16,
      "id": "2fbd8c3e",
      "metadata": {
        "execution": {
          "iopub.execute_input": "2024-04-09T18:17:35.271022Z",
          "iopub.status.busy": "2024-04-09T18:17:35.270395Z",
          "iopub.status.idle": "2024-04-09T18:17:35.306397Z",
          "shell.execute_reply": "2024-04-09T18:17:35.305494Z"
        },
        "papermill": {
          "duration": 0.054445,
          "end_time": "2024-04-09T18:17:35.308345",
          "exception": false,
          "start_time": "2024-04-09T18:17:35.253900",
          "status": "completed"
        },
        "tags": [],
        "id": "2fbd8c3e"
      },
      "outputs": [],
      "source": [
        "torch.save(model.state_dict(), 'model.pt')"
      ]
    },
    {
      "cell_type": "code",
      "execution_count": 15,
      "id": "f4ff66a2",
      "metadata": {
        "execution": {
          "iopub.execute_input": "2024-04-09T17:29:15.030035Z",
          "iopub.status.busy": "2024-04-09T17:29:15.029734Z",
          "iopub.status.idle": "2024-04-09T18:17:35.222002Z",
          "shell.execute_reply": "2024-04-09T18:17:35.220975Z"
        },
        "id": "f4ff66a2",
        "papermill": {
          "duration": 2900.220478,
          "end_time": "2024-04-09T18:17:35.238617",
          "exception": false,
          "start_time": "2024-04-09T17:29:15.018139",
          "status": "completed"
        },
        "tags": [],
        "colab": {
          "base_uri": "https://localhost:8080/"
        },
        "outputId": "ffd11f26-14f8-439b-8d9e-2b1e21c262c0"
      },
      "outputs": [
        {
          "output_type": "stream",
          "name": "stderr",
          "text": [
            "/usr/lib/python3.10/multiprocessing/popen_fork.py:66: RuntimeWarning: os.fork() was called. os.fork() is incompatible with multithreaded code, and JAX is multithreaded, so this will likely lead to a deadlock.\n",
            "  self.pid = os.fork()\n"
          ]
        },
        {
          "output_type": "stream",
          "name": "stdout",
          "text": [
            "Epochs 0:\n",
            "        Train loss: 1.3777689230259118, Validation loss: 1.0485081528402438\n",
            "        Train Acc: 0.4973025918006897, Validation Acc: 0.6429139971733093\n",
            "Epochs 1:\n",
            "        Train loss: 0.8409694927503996, Validation loss: 0.811320357451773\n",
            "        Train Acc: 0.700607419013977, Validation Acc: 0.7297969460487366\n",
            "Epochs 2:\n",
            "        Train loss: 0.6564901880062449, Validation loss: 0.5952430821148453\n",
            "        Train Acc: 0.7732976078987122, Validation Acc: 0.8007563948631287\n",
            "Epochs 3:\n",
            "        Train loss: 0.560501814002881, Validation loss: 0.5098637946092399\n",
            "        Train Acc: 0.8053069114685059, Validation Acc: 0.8303145170211792\n",
            "Epochs 4:\n",
            "        Train loss: 0.49199222161641815, Validation loss: 0.4948246654621355\n",
            "        Train Acc: 0.8290441036224365, Validation Acc: 0.8286226391792297\n",
            "Epochs 5:\n",
            "        Train loss: 0.4343110920332582, Validation loss: 0.4459282039267242\n",
            "        Train Acc: 0.8495444655418396, Validation Acc: 0.8492237329483032\n",
            "Epochs 6:\n",
            "        Train loss: 0.3926307091017818, Validation loss: 0.4073936183266579\n",
            "        Train Acc: 0.8634310960769653, Validation Acc: 0.8633558750152588\n",
            "Epochs 7:\n",
            "        Train loss: 0.36468393871050964, Validation loss: 0.3636713320282614\n",
            "        Train Acc: 0.8743206262588501, Validation Acc: 0.8799760937690735\n",
            "Epochs 8:\n",
            "        Train loss: 0.32496452762190337, Validation loss: 0.43344664440792835\n",
            "        Train Acc: 0.8871083855628967, Validation Acc: 0.8603702187538147\n",
            "Epochs 9:\n",
            "        Train loss: 0.30608159223633347, Validation loss: 0.3650720847450244\n",
            "        Train Acc: 0.8937819600105286, Validation Acc: 0.8829618096351624\n",
            "Epochs 10:\n",
            "        Train loss: 0.2731198320341537, Validation loss: 0.36538780148431754\n",
            "        Train Acc: 0.9035725593566895, Validation Acc: 0.8818670511245728\n",
            "Epochs 11:\n",
            "        Train loss: 0.2564864576844227, Validation loss: 0.3521898888098966\n",
            "        Train Acc: 0.9091072678565979, Validation Acc: 0.8878383636474609\n",
            "Epochs 12:\n",
            "        Train loss: 0.24026706714726165, Validation loss: 0.31242899380766664\n",
            "        Train Acc: 0.9158008098602295, Validation Acc: 0.8991839289665222\n",
            "Epochs 13:\n",
            "        Train loss: 0.21648686391103755, Validation loss: 0.3273429164935829\n",
            "        Train Acc: 0.9243526458740234, Validation Acc: 0.8966958522796631\n",
            "Epochs 14:\n",
            "        Train loss: 0.2034547677134995, Validation loss: 0.33786589158758235\n",
            "        Train Acc: 0.9292879104614258, Validation Acc: 0.8930135369300842\n",
            "Epochs 15:\n",
            "        Train loss: 0.19521806805449374, Validation loss: 0.279412095903591\n",
            "        Train Acc: 0.9313259124755859, Validation Acc: 0.9077428579330444\n",
            "Epochs 16:\n",
            "        Train loss: 0.17614149213637537, Validation loss: 0.32029388180583906\n",
            "        Train Acc: 0.9387787580490112, Validation Acc: 0.9012739062309265\n",
            "Epochs 17:\n",
            "        Train loss: 0.1717153991408208, Validation loss: 0.29144856432203653\n",
            "        Train Acc: 0.9389585852622986, Validation Acc: 0.9080414175987244\n",
            "Epochs 18:\n",
            "        Train loss: 0.15345175047416973, Validation loss: 0.28125350556935474\n",
            "        Train Acc: 0.9461516737937927, Validation Acc: 0.9084395170211792\n",
            "Epochs 19:\n",
            "        Train loss: 0.14798451259808468, Validation loss: 0.31073013066676014\n",
            "        Train Acc: 0.9482296705245972, Validation Acc: 0.902965784072876\n",
            "Epochs 20:\n",
            "        Train loss: 0.13236333895951052, Validation loss: 0.30552556197259834\n",
            "        Train Acc: 0.9529252052307129, Validation Acc: 0.9101313948631287\n",
            "Epochs 21:\n",
            "        Train loss: 0.1321871505152253, Validation loss: 0.3156213482284242\n",
            "        Train Acc: 0.9538443088531494, Validation Acc: 0.9028662443161011\n",
            "Epochs 22:\n",
            "        Train loss: 0.12623501816511992, Validation loss: 0.2749377665151456\n",
            "        Train Acc: 0.955362856388092, Validation Acc: 0.9174960255622864\n",
            "Epochs 23:\n",
            "        Train loss: 0.11648399192515922, Validation loss: 0.27957450365944275\n",
            "        Train Acc: 0.9585797786712646, Validation Acc: 0.9214769005775452\n",
            "Epochs 24:\n",
            "        Train loss: 0.11672464410995927, Validation loss: 0.33196957881568345\n",
            "        Train Acc: 0.9587795734405518, Validation Acc: 0.9065485596656799\n",
            "Epochs 25:\n",
            "        Train loss: 0.1009437247632605, Validation loss: 0.2792288408774859\n",
            "        Train Acc: 0.9642143249511719, Validation Acc: 0.9205812215805054\n",
            "Epochs 26:\n",
            "        Train loss: 0.10079900184801072, Validation loss: 0.3316423428618604\n",
            "        Train Acc: 0.9658727645874023, Validation Acc: 0.9101313948631287\n",
            "Epochs 27:\n",
            "        Train loss: 0.10107771163125095, Validation loss: 0.29156361653166973\n",
            "        Train Acc: 0.9641943573951721, Validation Acc: 0.9169983863830566\n",
            "Epochs 28:\n",
            "        Train loss: 0.09267368046281016, Validation loss: 0.28839521232256843\n",
            "        Train Acc: 0.9668717980384827, Validation Acc: 0.9192874431610107\n",
            "Epochs 29:\n",
            "        Train loss: 0.09065892659377811, Validation loss: 0.29556476968417694\n",
            "        Train Acc: 0.9687899351119995, Validation Acc: 0.9205812215805054\n",
            "Epochs 30:\n",
            "        Train loss: 0.08401440195989368, Validation loss: 0.2906625839365516\n",
            "        Train Acc: 0.9708679914474487, Validation Acc: 0.9191879034042358\n",
            "Epochs 31:\n",
            "        Train loss: 0.08236619645177061, Validation loss: 0.2752044206117369\n",
            "        Train Acc: 0.971267580986023, Validation Acc: 0.9236664175987244\n",
            "Epochs 32:\n",
            "        Train loss: 0.08170474976803774, Validation loss: 0.2934868812655947\n",
            "        Train Acc: 0.970588207244873, Validation Acc: 0.9223726391792297\n",
            "Epochs 33:\n",
            "        Train loss: 0.07346223084651449, Validation loss: 0.29639970692716966\n",
            "        Train Acc: 0.9741848111152649, Validation Acc: 0.9234673380851746\n",
            "Epochs 34:\n",
            "        Train loss: 0.03964083964860959, Validation loss: 0.23033983638854164\n",
            "        Train Acc: 0.9864729642868042, Validation Acc: 0.9371019005775452\n",
            "Epochs 35:\n",
            "        Train loss: 0.027173151682063107, Validation loss: 0.22197583204455626\n",
            "        Train Acc: 0.9913282990455627, Validation Acc: 0.9381966590881348\n",
            "Epochs 36:\n",
            "        Train loss: 0.024133548042942387, Validation loss: 0.2234647699341083\n",
            "        Train Acc: 0.9924272894859314, Validation Acc: 0.9384952187538147\n",
            "Epochs 37:\n",
            "        Train loss: 0.022154663870979904, Validation loss: 0.221835957846017\n",
            "        Train Acc: 0.9928868412971497, Validation Acc: 0.9381966590881348\n",
            "Epochs 38:\n",
            "        Train loss: 0.021134232260424362, Validation loss: 0.22434772411213036\n",
            "        Train Acc: 0.9935062527656555, Validation Acc: 0.9399880766868591\n",
            "Epochs 39:\n",
            "        Train loss: 0.019030623540008035, Validation loss: 0.2208918446710535\n",
            "        Train Acc: 0.994425356388092, Validation Acc: 0.941082775592804\n",
            "Epochs 40:\n",
            "        Train loss: 0.01762696811443289, Validation loss: 0.22439787999851404\n",
            "        Train Acc: 0.9944053888320923, Validation Acc: 0.941082775592804\n",
            "Epochs 41:\n",
            "        Train loss: 0.01595341430305887, Validation loss: 0.22131478139881494\n",
            "        Train Acc: 0.9954243898391724, Validation Acc: 0.9418789744377136\n",
            "Epochs 42:\n",
            "        Train loss: 0.0158357989581381, Validation loss: 0.2233256704417194\n",
            "        Train Acc: 0.9951246976852417, Validation Acc: 0.9413813948631287\n",
            "Epochs 43:\n",
            "        Train loss: 0.01444435832903499, Validation loss: 0.2179052300297412\n",
            "        Train Acc: 0.9950847029685974, Validation Acc: 0.9424760937690735\n",
            "Epochs 44:\n",
            "        Train loss: 0.013156583138784428, Validation loss: 0.23226143437538557\n",
            "        Train Acc: 0.9961636662483215, Validation Acc: 0.9414808750152588\n",
            "Epochs 45:\n",
            "        Train loss: 0.013262159373287273, Validation loss: 0.2281283625063433\n",
            "        Train Acc: 0.9963635206222534, Validation Acc: 0.9423766136169434\n",
            "Epochs 46:\n",
            "        Train loss: 0.012060481047963716, Validation loss: 0.22941667320218626\n",
            "        Train Acc: 0.9964433908462524, Validation Acc: 0.9412818551063538\n",
            "Epochs 47:\n",
            "        Train loss: 0.010697304276744132, Validation loss: 0.22717950722368754\n",
            "        Train Acc: 0.997002899646759, Validation Acc: 0.9418789744377136\n",
            "Epochs 48:\n",
            "        Train loss: 0.011721870285697742, Validation loss: 0.23277553054652397\n",
            "        Train Acc: 0.9965633153915405, Validation Acc: 0.9417794346809387\n",
            "Epochs 49:\n",
            "        Train loss: 0.010677247460096535, Validation loss: 0.2319397676326809\n",
            "        Train Acc: 0.9970428347587585, Validation Acc: 0.9428741931915283\n",
            "Epochs 50:\n",
            "        Train loss: 0.010542988257422803, Validation loss: 0.23525347174471542\n",
            "        Train Acc: 0.9968030452728271, Validation Acc: 0.9439689517021179\n",
            "Epochs 51:\n",
            "        Train loss: 0.009638551741807862, Validation loss: 0.22844755797273225\n",
            "        Train Acc: 0.9971626996994019, Validation Acc: 0.9423766136169434\n",
            "Epochs 52:\n",
            "        Train loss: 0.009198384788202191, Validation loss: 0.22924555340414024\n",
            "        Train Acc: 0.9972826242446899, Validation Acc: 0.9448646306991577\n",
            "Epochs 53:\n",
            "        Train loss: 0.009480565390798956, Validation loss: 0.24183099882626777\n",
            "        Train Acc: 0.9974024891853333, Validation Acc: 0.9404856562614441\n",
            "Epochs 54:\n",
            "        Train loss: 0.008547920174799953, Validation loss: 0.2313173335226502\n",
            "        Train Acc: 0.9975223541259766, Validation Acc: 0.943869411945343\n",
            "Epochs 55:\n",
            "        Train loss: 0.007530971284294911, Validation loss: 0.23132012182977169\n",
            "        Train Acc: 0.997822105884552, Validation Acc: 0.9442675113677979\n",
            "Epochs 56:\n",
            "        Train loss: 0.007292434738957427, Validation loss: 0.23087532144443246\n",
            "        Train Acc: 0.9978021383285522, Validation Acc: 0.943670392036438\n",
            "Epochs 57:\n",
            "        Train loss: 0.0074039416655938585, Validation loss: 0.22885954848662682\n",
            "        Train Acc: 0.9981018304824829, Validation Acc: 0.9435708522796631\n",
            "Epochs 58:\n",
            "        Train loss: 0.007304673097641243, Validation loss: 0.22848408399327735\n",
            "        Train Acc: 0.9980818629264832, Validation Acc: 0.9440684914588928\n",
            "Epochs 59:\n",
            "        Train loss: 0.006686660506030279, Validation loss: 0.22806877644352946\n",
            "        Train Acc: 0.9981417655944824, Validation Acc: 0.9443670511245728\n"
          ]
        }
      ],
      "source": [
        "train_loss_history = []\n",
        "train_acc_history = []\n",
        "validation_loss_history = []\n",
        "validation_acc_history = []\n",
        "\n",
        "for epoch in range(60):\n",
        "  train_loss = 0.0\n",
        "  train_acc = 0.0\n",
        "  validation_loss = 0.0\n",
        "  validation_acc = 0.0\n",
        "\n",
        "  model.train()\n",
        "  for i, data in enumerate(trainDataLoder):\n",
        "    images, labels = data\n",
        "    images = images.cuda()\n",
        "    labels = labels.cuda()\n",
        "    optimizer.zero_grad()\n",
        "    predicted_labels = model(images) ## forward pass\n",
        "    fit = loss(predicted_labels, labels)  ## calculate loss\n",
        "    fit.backward() ## backprop\n",
        "\n",
        "#     nn.utils.clip_grad_value_(model.parameters(), 0.1)\n",
        "\n",
        "    optimizer.step()  ## calculate gradients and updates weights\n",
        "    train_loss += fit.item()\n",
        "    train_acc += calculate_accuracy(predicted_labels, labels)\n",
        "\n",
        "  model.eval()\n",
        "  for i, data in enumerate(validationDataLoder):\n",
        "    with torch.no_grad():\n",
        "      images, labels = data\n",
        "      images = images.cuda()\n",
        "      labels = labels.cuda()\n",
        "      predicted_labels = model(images)\n",
        "      fit = loss(predicted_labels, labels)\n",
        "      validation_loss += fit.item()\n",
        "      validation_acc += calculate_accuracy(predicted_labels, labels)\n",
        "\n",
        "  train_loss = train_loss/len(trainDataLoder)\n",
        "  validation_loss = validation_loss/len(validationDataLoder)\n",
        "  scheduler.step(validation_loss)\n",
        "  train_acc = train_acc/len(trainDataLoder)\n",
        "  validation_acc = validation_acc/len(validationDataLoder)\n",
        "\n",
        "  train_loss_history.append(train_loss)\n",
        "  validation_loss_history.append(validation_loss)\n",
        "  train_acc_history.append(train_acc)\n",
        "  validation_acc_history.append(validation_acc)\n",
        "\n",
        "  print(f'Epochs {epoch}:')\n",
        "  print(f'        Train loss: {train_loss}, Validation loss: {validation_loss}')\n",
        "  print(f'        Train Acc: {train_acc}, Validation Acc: {validation_acc}')\n",
        "\n",
        "  if (epoch+1)%20==0:\n",
        "     torch.save(model.state_dict(), f'model_{epoch+1}.pt')"
      ]
    },
    {
      "cell_type": "code",
      "source": [
        "from google.colab import files\n",
        "uploaded = files.upload()"
      ],
      "metadata": {
        "colab": {
          "base_uri": "https://localhost:8080/",
          "height": 73
        },
        "id": "5ax4xoVWDf4b",
        "outputId": "ba751b4a-cb3d-4daa-8227-7ceef89eccae"
      },
      "id": "5ax4xoVWDf4b",
      "execution_count": 17,
      "outputs": [
        {
          "output_type": "display_data",
          "data": {
            "text/plain": [
              "<IPython.core.display.HTML object>"
            ],
            "text/html": [
              "\n",
              "     <input type=\"file\" id=\"files-b51e52f9-9a86-4116-acec-36d5e4de2b0e\" name=\"files[]\" multiple disabled\n",
              "        style=\"border:none\" />\n",
              "     <output id=\"result-b51e52f9-9a86-4116-acec-36d5e4de2b0e\">\n",
              "      Upload widget is only available when the cell has been executed in the\n",
              "      current browser session. Please rerun this cell to enable.\n",
              "      </output>\n",
              "      <script>// Copyright 2017 Google LLC\n",
              "//\n",
              "// Licensed under the Apache License, Version 2.0 (the \"License\");\n",
              "// you may not use this file except in compliance with the License.\n",
              "// You may obtain a copy of the License at\n",
              "//\n",
              "//      http://www.apache.org/licenses/LICENSE-2.0\n",
              "//\n",
              "// Unless required by applicable law or agreed to in writing, software\n",
              "// distributed under the License is distributed on an \"AS IS\" BASIS,\n",
              "// WITHOUT WARRANTIES OR CONDITIONS OF ANY KIND, either express or implied.\n",
              "// See the License for the specific language governing permissions and\n",
              "// limitations under the License.\n",
              "\n",
              "/**\n",
              " * @fileoverview Helpers for google.colab Python module.\n",
              " */\n",
              "(function(scope) {\n",
              "function span(text, styleAttributes = {}) {\n",
              "  const element = document.createElement('span');\n",
              "  element.textContent = text;\n",
              "  for (const key of Object.keys(styleAttributes)) {\n",
              "    element.style[key] = styleAttributes[key];\n",
              "  }\n",
              "  return element;\n",
              "}\n",
              "\n",
              "// Max number of bytes which will be uploaded at a time.\n",
              "const MAX_PAYLOAD_SIZE = 100 * 1024;\n",
              "\n",
              "function _uploadFiles(inputId, outputId) {\n",
              "  const steps = uploadFilesStep(inputId, outputId);\n",
              "  const outputElement = document.getElementById(outputId);\n",
              "  // Cache steps on the outputElement to make it available for the next call\n",
              "  // to uploadFilesContinue from Python.\n",
              "  outputElement.steps = steps;\n",
              "\n",
              "  return _uploadFilesContinue(outputId);\n",
              "}\n",
              "\n",
              "// This is roughly an async generator (not supported in the browser yet),\n",
              "// where there are multiple asynchronous steps and the Python side is going\n",
              "// to poll for completion of each step.\n",
              "// This uses a Promise to block the python side on completion of each step,\n",
              "// then passes the result of the previous step as the input to the next step.\n",
              "function _uploadFilesContinue(outputId) {\n",
              "  const outputElement = document.getElementById(outputId);\n",
              "  const steps = outputElement.steps;\n",
              "\n",
              "  const next = steps.next(outputElement.lastPromiseValue);\n",
              "  return Promise.resolve(next.value.promise).then((value) => {\n",
              "    // Cache the last promise value to make it available to the next\n",
              "    // step of the generator.\n",
              "    outputElement.lastPromiseValue = value;\n",
              "    return next.value.response;\n",
              "  });\n",
              "}\n",
              "\n",
              "/**\n",
              " * Generator function which is called between each async step of the upload\n",
              " * process.\n",
              " * @param {string} inputId Element ID of the input file picker element.\n",
              " * @param {string} outputId Element ID of the output display.\n",
              " * @return {!Iterable<!Object>} Iterable of next steps.\n",
              " */\n",
              "function* uploadFilesStep(inputId, outputId) {\n",
              "  const inputElement = document.getElementById(inputId);\n",
              "  inputElement.disabled = false;\n",
              "\n",
              "  const outputElement = document.getElementById(outputId);\n",
              "  outputElement.innerHTML = '';\n",
              "\n",
              "  const pickedPromise = new Promise((resolve) => {\n",
              "    inputElement.addEventListener('change', (e) => {\n",
              "      resolve(e.target.files);\n",
              "    });\n",
              "  });\n",
              "\n",
              "  const cancel = document.createElement('button');\n",
              "  inputElement.parentElement.appendChild(cancel);\n",
              "  cancel.textContent = 'Cancel upload';\n",
              "  const cancelPromise = new Promise((resolve) => {\n",
              "    cancel.onclick = () => {\n",
              "      resolve(null);\n",
              "    };\n",
              "  });\n",
              "\n",
              "  // Wait for the user to pick the files.\n",
              "  const files = yield {\n",
              "    promise: Promise.race([pickedPromise, cancelPromise]),\n",
              "    response: {\n",
              "      action: 'starting',\n",
              "    }\n",
              "  };\n",
              "\n",
              "  cancel.remove();\n",
              "\n",
              "  // Disable the input element since further picks are not allowed.\n",
              "  inputElement.disabled = true;\n",
              "\n",
              "  if (!files) {\n",
              "    return {\n",
              "      response: {\n",
              "        action: 'complete',\n",
              "      }\n",
              "    };\n",
              "  }\n",
              "\n",
              "  for (const file of files) {\n",
              "    const li = document.createElement('li');\n",
              "    li.append(span(file.name, {fontWeight: 'bold'}));\n",
              "    li.append(span(\n",
              "        `(${file.type || 'n/a'}) - ${file.size} bytes, ` +\n",
              "        `last modified: ${\n",
              "            file.lastModifiedDate ? file.lastModifiedDate.toLocaleDateString() :\n",
              "                                    'n/a'} - `));\n",
              "    const percent = span('0% done');\n",
              "    li.appendChild(percent);\n",
              "\n",
              "    outputElement.appendChild(li);\n",
              "\n",
              "    const fileDataPromise = new Promise((resolve) => {\n",
              "      const reader = new FileReader();\n",
              "      reader.onload = (e) => {\n",
              "        resolve(e.target.result);\n",
              "      };\n",
              "      reader.readAsArrayBuffer(file);\n",
              "    });\n",
              "    // Wait for the data to be ready.\n",
              "    let fileData = yield {\n",
              "      promise: fileDataPromise,\n",
              "      response: {\n",
              "        action: 'continue',\n",
              "      }\n",
              "    };\n",
              "\n",
              "    // Use a chunked sending to avoid message size limits. See b/62115660.\n",
              "    let position = 0;\n",
              "    do {\n",
              "      const length = Math.min(fileData.byteLength - position, MAX_PAYLOAD_SIZE);\n",
              "      const chunk = new Uint8Array(fileData, position, length);\n",
              "      position += length;\n",
              "\n",
              "      const base64 = btoa(String.fromCharCode.apply(null, chunk));\n",
              "      yield {\n",
              "        response: {\n",
              "          action: 'append',\n",
              "          file: file.name,\n",
              "          data: base64,\n",
              "        },\n",
              "      };\n",
              "\n",
              "      let percentDone = fileData.byteLength === 0 ?\n",
              "          100 :\n",
              "          Math.round((position / fileData.byteLength) * 100);\n",
              "      percent.textContent = `${percentDone}% done`;\n",
              "\n",
              "    } while (position < fileData.byteLength);\n",
              "  }\n",
              "\n",
              "  // All done.\n",
              "  yield {\n",
              "    response: {\n",
              "      action: 'complete',\n",
              "    }\n",
              "  };\n",
              "}\n",
              "\n",
              "scope.google = scope.google || {};\n",
              "scope.google.colab = scope.google.colab || {};\n",
              "scope.google.colab._files = {\n",
              "  _uploadFiles,\n",
              "  _uploadFilesContinue,\n",
              "};\n",
              "})(self);\n",
              "</script> "
            ]
          },
          "metadata": {}
        },
        {
          "output_type": "stream",
          "name": "stdout",
          "text": [
            "Saving cifar_test_nolabels.pkl to cifar_test_nolabels.pkl\n"
          ]
        }
      ]
    },
    {
      "cell_type": "code",
      "source": [
        "import os\n",
        "import pickle\n",
        "import numpy as np\n",
        "\n",
        "def load_cifar_batch(file):\n",
        "    with open(file, 'rb') as fo:\n",
        "        batch = pickle.load(fo, encoding='bytes')\n",
        "    return batch\n",
        "\n",
        "# Load the batch\n",
        "cifar10_batch = load_cifar_batch('cifar_test_nolabels.pkl')\n",
        "\n",
        "# Extract images\n",
        "images = cifar10_batch[b'data'].reshape(-1, 3, 32, 32)\n",
        "ids = cifar10_batch[b'ids']\n",
        "pred_labels = np.zeros(ids.shape,\"int32\")"
      ],
      "metadata": {
        "id": "BuJkpY37DiUh"
      },
      "id": "BuJkpY37DiUh",
      "execution_count": 18,
      "outputs": []
    },
    {
      "cell_type": "code",
      "source": [
        "for i in range(10000):\n",
        "  model.eval()\n",
        "  with torch.no_grad():\n",
        "    test_image = images[i]\n",
        "    test_image = np.transpose(test_image, (1, 2, 0))\n",
        "    test_image = valid_tfms(test_image)\n",
        "    test_image = np.transpose(test_image, (0, 1, 2))\n",
        "    test_image = test_image.cuda()\n",
        "    test_image = test_image.unsqueeze(0)\n",
        "    pred = model(test_image)\n",
        "    _, predicted = torch.max(pred, 1)\n",
        "    pred_labels[i] = predicted\n",
        "\n",
        "import pandas as pd\n",
        "test_results = pd.DataFrame({'ID': ids, 'Labels': pred_labels})\n",
        "test_results.to_csv('result.csv', index=False)"
      ],
      "metadata": {
        "id": "Qz3X1U74DkrW"
      },
      "id": "Qz3X1U74DkrW",
      "execution_count": 19,
      "outputs": []
    }
  ],
  "metadata": {
    "accelerator": "GPU",
    "colab": {
      "gpuType": "T4",
      "provenance": []
    },
    "kaggle": {
      "accelerator": "gpu",
      "dataSources": [
        {
          "databundleVersionId": 8112053,
          "sourceId": 73233,
          "sourceType": "competition"
        },
        {
          "datasetId": 4759641,
          "sourceId": 8067274,
          "sourceType": "datasetVersion"
        }
      ],
      "dockerImageVersionId": 30674,
      "isGpuEnabled": true,
      "isInternetEnabled": true,
      "language": "python",
      "sourceType": "notebook"
    },
    "kernelspec": {
      "display_name": "Python 3",
      "language": "python",
      "name": "python3"
    },
    "language_info": {
      "codemirror_mode": {
        "name": "ipython",
        "version": 3
      },
      "file_extension": ".py",
      "mimetype": "text/x-python",
      "name": "python",
      "nbconvert_exporter": "python",
      "pygments_lexer": "ipython3",
      "version": "3.10.13"
    },
    "papermill": {
      "default_parameters": {},
      "duration": 2923.473575,
      "end_time": "2024-04-09T18:17:37.771104",
      "environment_variables": {},
      "exception": null,
      "input_path": "__notebook__.ipynb",
      "output_path": "__notebook__.ipynb",
      "parameters": {},
      "start_time": "2024-04-09T17:28:54.297529",
      "version": "2.5.0"
    }
  },
  "nbformat": 4,
  "nbformat_minor": 5
}