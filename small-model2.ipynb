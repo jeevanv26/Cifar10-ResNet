{
 "cells": [
  {
   "cell_type": "code",
   "execution_count": 1,
   "id": "cea773d8",
   "metadata": {
    "execution": {
     "iopub.execute_input": "2024-04-09T17:28:57.154391Z",
     "iopub.status.busy": "2024-04-09T17:28:57.153460Z",
     "iopub.status.idle": "2024-04-09T17:29:03.721500Z",
     "shell.execute_reply": "2024-04-09T17:29:03.720439Z"
    },
    "id": "FkxqQlU0CaMm",
    "papermill": {
     "duration": 6.578099,
     "end_time": "2024-04-09T17:29:03.724062",
     "exception": false,
     "start_time": "2024-04-09T17:28:57.145963",
     "status": "completed"
    },
    "tags": []
   },
   "outputs": [],
   "source": [
    "import torch\n",
    "import torchvision\n",
    "import torchvision.transforms as transforms\n",
    "import matplotlib.pyplot as plt\n",
    "import torch.nn as nn\n",
    "import numpy as np\n",
    "from torch import Tensor\n",
    "from typing import Type"
   ]
  },
  {
   "cell_type": "code",
   "execution_count": 2,
   "id": "52f18c61",
   "metadata": {
    "execution": {
     "iopub.execute_input": "2024-04-09T17:29:03.739075Z",
     "iopub.status.busy": "2024-04-09T17:29:03.737022Z",
     "iopub.status.idle": "2024-04-09T17:29:03.742717Z",
     "shell.execute_reply": "2024-04-09T17:29:03.741803Z"
    },
    "id": "0EK12Iobs-UI",
    "papermill": {
     "duration": 0.014823,
     "end_time": "2024-04-09T17:29:03.744634",
     "exception": false,
     "start_time": "2024-04-09T17:29:03.729811",
     "status": "completed"
    },
    "tags": []
   },
   "outputs": [],
   "source": [
    "# Data transforms (normalization & data augmentation)\n",
    "# stats = ((0.4914, 0.4822, 0.4465), (0.2023, 0.1994, 0.2010))\n",
    "# train_tfms = transforms.Compose([transforms.Resize((64, 64)),\n",
    "#                          transforms.RandomCrop(64, padding=4, padding_mode='reflect'),\n",
    "#                          transforms.RandomHorizontalFlip(),\n",
    "#                          transforms.ToTensor(),\n",
    "#                          transforms.Normalize(*stats,inplace=True)])\n",
    "# valid_tfms = transforms.Compose([transforms.Resize((64, 64)), transforms.ToTensor(), transforms.Normalize(*stats)])"
   ]
  },
  {
   "cell_type": "code",
   "execution_count": 3,
   "id": "4b61d574",
   "metadata": {
    "execution": {
     "iopub.execute_input": "2024-04-09T17:29:03.756742Z",
     "iopub.status.busy": "2024-04-09T17:29:03.756403Z",
     "iopub.status.idle": "2024-04-09T17:29:03.762430Z",
     "shell.execute_reply": "2024-04-09T17:29:03.761477Z"
    },
    "papermill": {
     "duration": 0.014333,
     "end_time": "2024-04-09T17:29:03.764336",
     "exception": false,
     "start_time": "2024-04-09T17:29:03.750003",
     "status": "completed"
    },
    "tags": []
   },
   "outputs": [],
   "source": [
    "train_tfms = transforms.Compose([\n",
    "    transforms.RandomHorizontalFlip(),\n",
    "    transforms.RandomRotation(10),\n",
    "    transforms.RandomCrop(32, padding=4),\n",
    "    transforms.ToTensor(),\n",
    "    transforms.Normalize((0.5, 0.5, 0.5), (0.5, 0.5, 0.5))\n",
    "])\n",
    "\n",
    "# Define transformations for test data\n",
    "valid_tfms = transforms.Compose([\n",
    "    transforms.ToTensor(),\n",
    "    transforms.Normalize((0.5, 0.5, 0.5), (0.5, 0.5, 0.5))\n",
    "])"
   ]
  },
  {
   "cell_type": "code",
   "execution_count": 4,
   "id": "efaafc6d",
   "metadata": {
    "execution": {
     "iopub.execute_input": "2024-04-09T17:29:03.776465Z",
     "iopub.status.busy": "2024-04-09T17:29:03.775704Z",
     "iopub.status.idle": "2024-04-09T17:29:14.362502Z",
     "shell.execute_reply": "2024-04-09T17:29:14.361669Z"
    },
    "id": "TgGPObUKDBqz",
    "outputId": "b9eb3574-24c4-4050-c059-8c86e2b48ec7",
    "papermill": {
     "duration": 10.595187,
     "end_time": "2024-04-09T17:29:14.364903",
     "exception": false,
     "start_time": "2024-04-09T17:29:03.769716",
     "status": "completed"
    },
    "tags": []
   },
   "outputs": [
    {
     "name": "stdout",
     "output_type": "stream",
     "text": [
      "Downloading https://www.cs.toronto.edu/~kriz/cifar-10-python.tar.gz to ./data/cifar-10-python.tar.gz\n"
     ]
    },
    {
     "name": "stderr",
     "output_type": "stream",
     "text": [
      "100%|██████████| 170498071/170498071 [00:05<00:00, 29184104.95it/s]\n"
     ]
    },
    {
     "name": "stdout",
     "output_type": "stream",
     "text": [
      "Extracting ./data/cifar-10-python.tar.gz to ./data\n",
      "Files already downloaded and verified\n"
     ]
    }
   ],
   "source": [
    "traindata = torchvision.datasets.CIFAR10(root='./data', train=True, download=True, transform=train_tfms)\n",
    "validationdata = torchvision.datasets.CIFAR10(root='./data', train=False, download=True, transform=valid_tfms)"
   ]
  },
  {
   "cell_type": "code",
   "execution_count": 5,
   "id": "05a4e176",
   "metadata": {
    "execution": {
     "iopub.execute_input": "2024-04-09T17:29:14.387340Z",
     "iopub.status.busy": "2024-04-09T17:29:14.386997Z",
     "iopub.status.idle": "2024-04-09T17:29:14.393727Z",
     "shell.execute_reply": "2024-04-09T17:29:14.392722Z"
    },
    "id": "KQ0u9O5dtTsE",
    "outputId": "05bb60ea-89f5-459d-f651-a655c1f0944f",
    "papermill": {
     "duration": 0.020293,
     "end_time": "2024-04-09T17:29:14.395714",
     "exception": false,
     "start_time": "2024-04-09T17:29:14.375421",
     "status": "completed"
    },
    "tags": []
   },
   "outputs": [
    {
     "data": {
      "text/plain": [
       "50000"
      ]
     },
     "execution_count": 5,
     "metadata": {},
     "output_type": "execute_result"
    }
   ],
   "source": [
    "len(traindata)"
   ]
  },
  {
   "cell_type": "code",
   "execution_count": 6,
   "id": "d1bd4e0f",
   "metadata": {
    "execution": {
     "iopub.execute_input": "2024-04-09T17:29:14.417756Z",
     "iopub.status.busy": "2024-04-09T17:29:14.417181Z",
     "iopub.status.idle": "2024-04-09T17:29:14.422896Z",
     "shell.execute_reply": "2024-04-09T17:29:14.421997Z"
    },
    "id": "8xpaGJy_tVOO",
    "outputId": "79a50f2f-c6d9-4f33-bc1b-e8f1dcffb35c",
    "papermill": {
     "duration": 0.018723,
     "end_time": "2024-04-09T17:29:14.424746",
     "exception": false,
     "start_time": "2024-04-09T17:29:14.406023",
     "status": "completed"
    },
    "tags": []
   },
   "outputs": [
    {
     "data": {
      "text/plain": [
       "10000"
      ]
     },
     "execution_count": 6,
     "metadata": {},
     "output_type": "execute_result"
    }
   ],
   "source": [
    "len(validationdata)"
   ]
  },
  {
   "cell_type": "code",
   "execution_count": 7,
   "id": "9ae5ae7d",
   "metadata": {
    "execution": {
     "iopub.execute_input": "2024-04-09T17:29:14.447380Z",
     "iopub.status.busy": "2024-04-09T17:29:14.446604Z",
     "iopub.status.idle": "2024-04-09T17:29:14.529056Z",
     "shell.execute_reply": "2024-04-09T17:29:14.527823Z"
    },
    "id": "2uBISSOmEtGx",
    "outputId": "bf029e75-60c1-41af-c046-8173fe202c0b",
    "papermill": {
     "duration": 0.096221,
     "end_time": "2024-04-09T17:29:14.531501",
     "exception": false,
     "start_time": "2024-04-09T17:29:14.435280",
     "status": "completed"
    },
    "tags": []
   },
   "outputs": [
    {
     "name": "stdout",
     "output_type": "stream",
     "text": [
      "torch.Size([3, 32, 32]) 6\n"
     ]
    }
   ],
   "source": [
    "image, label = traindata[0]\n",
    "print(image.shape, label)"
   ]
  },
  {
   "cell_type": "code",
   "execution_count": 8,
   "id": "4a15ff11",
   "metadata": {
    "execution": {
     "iopub.execute_input": "2024-04-09T17:29:14.555672Z",
     "iopub.status.busy": "2024-04-09T17:29:14.555314Z",
     "iopub.status.idle": "2024-04-09T17:29:14.560347Z",
     "shell.execute_reply": "2024-04-09T17:29:14.559428Z"
    },
    "id": "D5oEbdPtFC3h",
    "papermill": {
     "duration": 0.01893,
     "end_time": "2024-04-09T17:29:14.562363",
     "exception": false,
     "start_time": "2024-04-09T17:29:14.543433",
     "status": "completed"
    },
    "tags": []
   },
   "outputs": [],
   "source": [
    "trainDataLoder = torch.utils.data.DataLoader(traindata, batch_size=128, shuffle=True)\n",
    "validationDataLoder = torch.utils.data.DataLoader(validationdata, batch_size=128, shuffle=False)"
   ]
  },
  {
   "cell_type": "markdown",
   "id": "d2fb34d6",
   "metadata": {
    "id": "ZJsyJhokFQ4g",
    "papermill": {
     "duration": 0.010098,
     "end_time": "2024-04-09T17:29:14.582967",
     "exception": false,
     "start_time": "2024-04-09T17:29:14.572869",
     "status": "completed"
    },
    "tags": []
   },
   "source": [
    "##Custom ResNet"
   ]
  },
  {
   "cell_type": "code",
   "execution_count": 9,
   "id": "5857299b",
   "metadata": {
    "execution": {
     "iopub.execute_input": "2024-04-09T17:29:14.605953Z",
     "iopub.status.busy": "2024-04-09T17:29:14.605092Z",
     "iopub.status.idle": "2024-04-09T17:29:14.618095Z",
     "shell.execute_reply": "2024-04-09T17:29:14.616914Z"
    },
    "id": "ziHWhKqYFMJO",
    "papermill": {
     "duration": 0.027041,
     "end_time": "2024-04-09T17:29:14.620274",
     "exception": false,
     "start_time": "2024-04-09T17:29:14.593233",
     "status": "completed"
    },
    "tags": []
   },
   "outputs": [],
   "source": [
    "def conv_block(in_channels, out_channels, pool=False):\n",
    "    layers = [nn.Conv2d(in_channels, out_channels, kernel_size=3, padding=1),\n",
    "              nn.BatchNorm2d(out_channels),\n",
    "              nn.ReLU(inplace=True)]\n",
    "    if pool: layers.append(nn.MaxPool2d(2))\n",
    "    return nn.Sequential(*layers)\n",
    "\n",
    "class ResNet9(nn.Module):\n",
    "    def __init__(self, in_channels, num_classes):\n",
    "        super().__init__()\n",
    "\n",
    "        self.conv1 = conv_block(in_channels, 64)\n",
    "        self.res1 = nn.Sequential(conv_block(64, 64), conv_block(64, 64))\n",
    "\n",
    "        self.conv2 = conv_block(64, 128, pool=True)\n",
    "        self.res2 = nn.Sequential(conv_block(128, 128), conv_block(128, 128))\n",
    "        self.res2_1 = nn.Sequential(conv_block(128, 128), conv_block(128, 128))\n",
    "        \n",
    "        self.conv3 = conv_block(128, 256, pool=True)\n",
    "        self.res3 = nn.Sequential(conv_block(256, 256), conv_block(256, 256))\n",
    "        self.res3_1 = nn.Sequential(conv_block(256, 256), conv_block(256, 256))\n",
    "        \n",
    "        self.conv4 = conv_block(256, 512, pool=True)\n",
    "        \n",
    "        self.classifier = nn.Sequential(nn.MaxPool2d(4),\n",
    "                                        nn.Flatten(),\n",
    "#                                         nn.Dropout(0.5),\n",
    "                                        nn.Linear(512, num_classes)\n",
    "                                       )\n",
    "\n",
    "    def forward(self, xb):\n",
    "        out = self.conv1(xb)\n",
    "        out = self.res1(out) + out\n",
    "        out = self.conv2(out)\n",
    "        out = self.res2(out) + out\n",
    "        out = self.res2_1(out) + out\n",
    "        out = self.conv3(out)\n",
    "        out = self.res3(out) + out\n",
    "        out = self.res3_1(out) + out\n",
    "        out = self.conv4(out)\n",
    "        out = self.classifier(out)\n",
    "        return out"
   ]
  },
  {
   "cell_type": "code",
   "execution_count": 10,
   "id": "ed72ba32",
   "metadata": {
    "execution": {
     "iopub.execute_input": "2024-04-09T17:29:14.642911Z",
     "iopub.status.busy": "2024-04-09T17:29:14.642479Z",
     "iopub.status.idle": "2024-04-09T17:29:14.913935Z",
     "shell.execute_reply": "2024-04-09T17:29:14.912925Z"
    },
    "id": "iEPQsO59T_kv",
    "outputId": "9a866d13-3d30-4ae2-8267-3dce02e29bb9",
    "papermill": {
     "duration": 0.285758,
     "end_time": "2024-04-09T17:29:14.916760",
     "exception": false,
     "start_time": "2024-04-09T17:29:14.631002",
     "status": "completed"
    },
    "tags": []
   },
   "outputs": [
    {
     "name": "stdout",
     "output_type": "stream",
     "text": [
      "ResNet9(\n",
      "  (conv1): Sequential(\n",
      "    (0): Conv2d(3, 64, kernel_size=(3, 3), stride=(1, 1), padding=(1, 1))\n",
      "    (1): BatchNorm2d(64, eps=1e-05, momentum=0.1, affine=True, track_running_stats=True)\n",
      "    (2): ReLU(inplace=True)\n",
      "  )\n",
      "  (res1): Sequential(\n",
      "    (0): Sequential(\n",
      "      (0): Conv2d(64, 64, kernel_size=(3, 3), stride=(1, 1), padding=(1, 1))\n",
      "      (1): BatchNorm2d(64, eps=1e-05, momentum=0.1, affine=True, track_running_stats=True)\n",
      "      (2): ReLU(inplace=True)\n",
      "    )\n",
      "    (1): Sequential(\n",
      "      (0): Conv2d(64, 64, kernel_size=(3, 3), stride=(1, 1), padding=(1, 1))\n",
      "      (1): BatchNorm2d(64, eps=1e-05, momentum=0.1, affine=True, track_running_stats=True)\n",
      "      (2): ReLU(inplace=True)\n",
      "    )\n",
      "  )\n",
      "  (conv2): Sequential(\n",
      "    (0): Conv2d(64, 128, kernel_size=(3, 3), stride=(1, 1), padding=(1, 1))\n",
      "    (1): BatchNorm2d(128, eps=1e-05, momentum=0.1, affine=True, track_running_stats=True)\n",
      "    (2): ReLU(inplace=True)\n",
      "    (3): MaxPool2d(kernel_size=2, stride=2, padding=0, dilation=1, ceil_mode=False)\n",
      "  )\n",
      "  (res2): Sequential(\n",
      "    (0): Sequential(\n",
      "      (0): Conv2d(128, 128, kernel_size=(3, 3), stride=(1, 1), padding=(1, 1))\n",
      "      (1): BatchNorm2d(128, eps=1e-05, momentum=0.1, affine=True, track_running_stats=True)\n",
      "      (2): ReLU(inplace=True)\n",
      "    )\n",
      "    (1): Sequential(\n",
      "      (0): Conv2d(128, 128, kernel_size=(3, 3), stride=(1, 1), padding=(1, 1))\n",
      "      (1): BatchNorm2d(128, eps=1e-05, momentum=0.1, affine=True, track_running_stats=True)\n",
      "      (2): ReLU(inplace=True)\n",
      "    )\n",
      "  )\n",
      "  (res2_1): Sequential(\n",
      "    (0): Sequential(\n",
      "      (0): Conv2d(128, 128, kernel_size=(3, 3), stride=(1, 1), padding=(1, 1))\n",
      "      (1): BatchNorm2d(128, eps=1e-05, momentum=0.1, affine=True, track_running_stats=True)\n",
      "      (2): ReLU(inplace=True)\n",
      "    )\n",
      "    (1): Sequential(\n",
      "      (0): Conv2d(128, 128, kernel_size=(3, 3), stride=(1, 1), padding=(1, 1))\n",
      "      (1): BatchNorm2d(128, eps=1e-05, momentum=0.1, affine=True, track_running_stats=True)\n",
      "      (2): ReLU(inplace=True)\n",
      "    )\n",
      "  )\n",
      "  (conv3): Sequential(\n",
      "    (0): Conv2d(128, 256, kernel_size=(3, 3), stride=(1, 1), padding=(1, 1))\n",
      "    (1): BatchNorm2d(256, eps=1e-05, momentum=0.1, affine=True, track_running_stats=True)\n",
      "    (2): ReLU(inplace=True)\n",
      "    (3): MaxPool2d(kernel_size=2, stride=2, padding=0, dilation=1, ceil_mode=False)\n",
      "  )\n",
      "  (res3): Sequential(\n",
      "    (0): Sequential(\n",
      "      (0): Conv2d(256, 256, kernel_size=(3, 3), stride=(1, 1), padding=(1, 1))\n",
      "      (1): BatchNorm2d(256, eps=1e-05, momentum=0.1, affine=True, track_running_stats=True)\n",
      "      (2): ReLU(inplace=True)\n",
      "    )\n",
      "    (1): Sequential(\n",
      "      (0): Conv2d(256, 256, kernel_size=(3, 3), stride=(1, 1), padding=(1, 1))\n",
      "      (1): BatchNorm2d(256, eps=1e-05, momentum=0.1, affine=True, track_running_stats=True)\n",
      "      (2): ReLU(inplace=True)\n",
      "    )\n",
      "  )\n",
      "  (res3_1): Sequential(\n",
      "    (0): Sequential(\n",
      "      (0): Conv2d(256, 256, kernel_size=(3, 3), stride=(1, 1), padding=(1, 1))\n",
      "      (1): BatchNorm2d(256, eps=1e-05, momentum=0.1, affine=True, track_running_stats=True)\n",
      "      (2): ReLU(inplace=True)\n",
      "    )\n",
      "    (1): Sequential(\n",
      "      (0): Conv2d(256, 256, kernel_size=(3, 3), stride=(1, 1), padding=(1, 1))\n",
      "      (1): BatchNorm2d(256, eps=1e-05, momentum=0.1, affine=True, track_running_stats=True)\n",
      "      (2): ReLU(inplace=True)\n",
      "    )\n",
      "  )\n",
      "  (conv4): Sequential(\n",
      "    (0): Conv2d(256, 512, kernel_size=(3, 3), stride=(1, 1), padding=(1, 1))\n",
      "    (1): BatchNorm2d(512, eps=1e-05, momentum=0.1, affine=True, track_running_stats=True)\n",
      "    (2): ReLU(inplace=True)\n",
      "    (3): MaxPool2d(kernel_size=2, stride=2, padding=0, dilation=1, ceil_mode=False)\n",
      "  )\n",
      "  (classifier): Sequential(\n",
      "    (0): MaxPool2d(kernel_size=4, stride=4, padding=0, dilation=1, ceil_mode=False)\n",
      "    (1): Flatten(start_dim=1, end_dim=-1)\n",
      "    (2): Linear(in_features=512, out_features=10, bias=True)\n",
      "  )\n",
      ")\n"
     ]
    }
   ],
   "source": [
    "model = ResNet9(3,10).cuda()\n",
    "print(model)"
   ]
  },
  {
   "cell_type": "code",
   "execution_count": 11,
   "id": "87baf5c9",
   "metadata": {
    "execution": {
     "iopub.execute_input": "2024-04-09T17:29:14.940358Z",
     "iopub.status.busy": "2024-04-09T17:29:14.939407Z",
     "iopub.status.idle": "2024-04-09T17:29:14.945960Z",
     "shell.execute_reply": "2024-04-09T17:29:14.945107Z"
    },
    "id": "X5u8ERVJTVn6",
    "outputId": "7df1a034-6792-414c-94bc-1c1a70b3135c",
    "papermill": {
     "duration": 0.020642,
     "end_time": "2024-04-09T17:29:14.948047",
     "exception": false,
     "start_time": "2024-04-09T17:29:14.927405",
     "status": "completed"
    },
    "tags": []
   },
   "outputs": [
    {
     "name": "stdout",
     "output_type": "stream",
     "text": [
      "4,585,866 total parameters.\n",
      "4,585,866 training parameters.\n"
     ]
    }
   ],
   "source": [
    "total_params = sum(p.numel() for p in model.parameters())\n",
    "print(f\"{total_params:,} total parameters.\")\n",
    "total_trainable_params = sum(p.numel() for p in model.parameters() if p.requires_grad)\n",
    "print(f\"{total_trainable_params:,} training parameters.\")"
   ]
  },
  {
   "cell_type": "code",
   "execution_count": 12,
   "id": "63591324",
   "metadata": {
    "execution": {
     "iopub.execute_input": "2024-04-09T17:29:14.971526Z",
     "iopub.status.busy": "2024-04-09T17:29:14.970813Z",
     "iopub.status.idle": "2024-04-09T17:29:14.976083Z",
     "shell.execute_reply": "2024-04-09T17:29:14.975152Z"
    },
    "id": "XxyaoRw-4OZ1",
    "papermill": {
     "duration": 0.019062,
     "end_time": "2024-04-09T17:29:14.977958",
     "exception": false,
     "start_time": "2024-04-09T17:29:14.958896",
     "status": "completed"
    },
    "tags": []
   },
   "outputs": [],
   "source": [
    "loss = torch.nn.CrossEntropyLoss()\n",
    "optimizer = torch.optim.Adam(model.parameters(), lr=1e-3)"
   ]
  },
  {
   "cell_type": "code",
   "execution_count": 13,
   "id": "4fcc9fdc",
   "metadata": {
    "execution": {
     "iopub.execute_input": "2024-04-09T17:29:15.001336Z",
     "iopub.status.busy": "2024-04-09T17:29:15.000624Z",
     "iopub.status.idle": "2024-04-09T17:29:15.005550Z",
     "shell.execute_reply": "2024-04-09T17:29:15.004593Z"
    },
    "id": "tK62cAQQ4RRa",
    "papermill": {
     "duration": 0.01875,
     "end_time": "2024-04-09T17:29:15.007496",
     "exception": false,
     "start_time": "2024-04-09T17:29:14.988746",
     "status": "completed"
    },
    "tags": []
   },
   "outputs": [],
   "source": [
    "def calculate_accuracy(outputs, labels):\n",
    "    _, preds = torch.max(outputs, dim=1)\n",
    "    return torch.tensor(torch.sum(preds == labels).item() / len(preds))"
   ]
  },
  {
   "cell_type": "code",
   "execution_count": 14,
   "id": "f4ff66a2",
   "metadata": {
    "execution": {
     "iopub.execute_input": "2024-04-09T17:29:15.030035Z",
     "iopub.status.busy": "2024-04-09T17:29:15.029734Z",
     "iopub.status.idle": "2024-04-09T18:17:35.222002Z",
     "shell.execute_reply": "2024-04-09T18:17:35.220975Z"
    },
    "id": "aDOkFaeTVDrc",
    "papermill": {
     "duration": 2900.220478,
     "end_time": "2024-04-09T18:17:35.238617",
     "exception": false,
     "start_time": "2024-04-09T17:29:15.018139",
     "status": "completed"
    },
    "tags": []
   },
   "outputs": [
    {
     "name": "stdout",
     "output_type": "stream",
     "text": [
      "Epochs 0:\n",
      "        Train loss: 1.3565686293270276, Validation loss: 1.1431117955642411\n",
      "        Train Acc: 0.5070252418518066, Validation Acc: 0.6129351258277893\n",
      "Epochs 1:\n",
      "        Train loss: 0.8398220162562398, Validation loss: 0.7864032199111166\n",
      "        Train Acc: 0.7048273682594299, Validation Acc: 0.7257713675498962\n",
      "Epochs 2:\n",
      "        Train loss: 0.655611978162585, Validation loss: 0.6199331196803081\n",
      "        Train Acc: 0.7715272903442383, Validation Acc: 0.787282407283783\n",
      "Epochs 3:\n",
      "        Train loss: 0.5421166122721894, Validation loss: 0.5942599837538562\n",
      "        Train Acc: 0.8116728067398071, Validation Acc: 0.798061728477478\n",
      "Epochs 4:\n",
      "        Train loss: 0.4848165983891548, Validation loss: 0.4519854278504094\n",
      "        Train Acc: 0.8323649168014526, Validation Acc: 0.8450356125831604\n",
      "Epochs 5:\n",
      "        Train loss: 0.42571524181939147, Validation loss: 0.48802637638924995\n",
      "        Train Acc: 0.8512507677078247, Validation Acc: 0.8354430198669434\n",
      "Epochs 6:\n",
      "        Train loss: 0.3841312007449777, Validation loss: 0.4687003212261803\n",
      "        Train Acc: 0.8666080832481384, Validation Acc: 0.8448378443717957\n",
      "Epochs 7:\n",
      "        Train loss: 0.3533542363539986, Validation loss: 0.45450018327447433\n",
      "        Train Acc: 0.8767063021659851, Validation Acc: 0.8468156456947327\n",
      "Epochs 8:\n",
      "        Train loss: 0.32057415387209726, Validation loss: 0.382155429901956\n",
      "        Train Acc: 0.888443112373352, Validation Acc: 0.8717365264892578\n",
      "Epochs 9:\n",
      "        Train loss: 0.29338110613700985, Validation loss: 0.332057392389714\n",
      "        Train Acc: 0.8988730907440186, Validation Acc: 0.8872626423835754\n",
      "Epochs 10:\n",
      "        Train loss: 0.26872450130446185, Validation loss: 0.3499214413422572\n",
      "        Train Acc: 0.9079323410987854, Validation Acc: 0.8807357549667358\n",
      "Epochs 11:\n",
      "        Train loss: 0.2565397206131759, Validation loss: 0.35838499646398086\n",
      "        Train Acc: 0.9096667170524597, Validation Acc: 0.8820213675498962\n",
      "Epochs 12:\n",
      "        Train loss: 0.22467305985710506, Validation loss: 0.3140740051299711\n",
      "        Train Acc: 0.9208679795265198, Validation Acc: 0.8939873576164246\n",
      "Epochs 13:\n",
      "        Train loss: 0.22012042315186137, Validation loss: 0.3012113032650344\n",
      "        Train Acc: 0.9227421283721924, Validation Acc: 0.9009097814559937\n",
      "Epochs 14:\n",
      "        Train loss: 0.19824419094397283, Validation loss: 0.28068083090872703\n",
      "        Train Acc: 0.9300751090049744, Validation Acc: 0.9051621556282043\n",
      "Epochs 15:\n",
      "        Train loss: 0.17966068659901924, Validation loss: 0.32829217046876497\n",
      "        Train Acc: 0.9367128014564514, Validation Acc: 0.9001186490058899\n",
      "Epochs 16:\n",
      "        Train loss: 0.1678855117419949, Validation loss: 0.48069919476026224\n",
      "        Train Acc: 0.9402573704719543, Validation Acc: 0.8633307218551636\n",
      "Epochs 17:\n",
      "        Train loss: 0.15804475732624074, Validation loss: 0.3563845989447606\n",
      "        Train Acc: 0.9435781240463257, Validation Acc: 0.8883504867553711\n",
      "Epochs 18:\n",
      "        Train loss: 0.1498993467110807, Validation loss: 0.2817520873644684\n",
      "        Train Acc: 0.9480298757553101, Validation Acc: 0.9136669039726257\n",
      "Epochs 19:\n",
      "        Train loss: 0.13470643584418784, Validation loss: 0.306091414599479\n",
      "        Train Acc: 0.9524296522140503, Validation Acc: 0.9090189933776855\n",
      "Epochs 20:\n",
      "        Train loss: 0.1414716236979303, Validation loss: 0.329154608323227\n",
      "        Train Acc: 0.9505354762077332, Validation Acc: 0.9031843543052673\n",
      "Epochs 21:\n",
      "        Train loss: 0.1280595691364897, Validation loss: 0.33953773466092124\n",
      "        Train Acc: 0.9541240334510803, Validation Acc: 0.8979430198669434\n",
      "Epochs 22:\n",
      "        Train loss: 0.11358237061697199, Validation loss: 0.3063190422857864\n",
      "        Train Acc: 0.959434986114502, Validation Acc: 0.9124802350997925\n",
      "Epochs 23:\n",
      "        Train loss: 0.11005798217547519, Validation loss: 0.33095758945881565\n",
      "        Train Acc: 0.9610013961791992, Validation Acc: 0.9067444801330566\n",
      "Epochs 24:\n",
      "        Train loss: 0.1096482356757764, Validation loss: 0.3106784815841083\n",
      "        Train Acc: 0.9615848660469055, Validation Acc: 0.9131724834442139\n",
      "Epochs 25:\n",
      "        Train loss: 0.09330136091698465, Validation loss: 0.29211601897885525\n",
      "        Train Acc: 0.9673473834991455, Validation Acc: 0.9173259735107422\n",
      "Epochs 26:\n",
      "        Train loss: 0.09347577089124628, Validation loss: 0.3312761043257351\n",
      "        Train Acc: 0.9667639136314392, Validation Acc: 0.9113923907279968\n",
      "Epochs 27:\n",
      "        Train loss: 0.0868881112869705, Validation loss: 0.30939323087281817\n",
      "        Train Acc: 0.9685901403427124, Validation Acc: 0.913469135761261\n",
      "Epochs 28:\n",
      "        Train loss: 0.08523599794158317, Validation loss: 0.3183920292914668\n",
      "        Train Acc: 0.9699248671531677, Validation Acc: 0.912282407283783\n",
      "Epochs 29:\n",
      "        Train loss: 0.08882772039307658, Validation loss: 0.30976283880351463\n",
      "        Train Acc: 0.9678269028663635, Validation Acc: 0.9168314933776855\n",
      "Epochs 30:\n",
      "        Train loss: 0.07846631003005425, Validation loss: 0.3048764018789877\n",
      "        Train Acc: 0.9721028208732605, Validation Acc: 0.922468364238739\n",
      "Epochs 31:\n",
      "        Train loss: 0.07605691377997703, Validation loss: 0.4110867631963537\n",
      "        Train Acc: 0.9729260206222534, Validation Acc: 0.9027887582778931\n",
      "Epochs 32:\n",
      "        Train loss: 0.06725884384959174, Validation loss: 0.33568798297945457\n",
      "        Train Acc: 0.9763306975364685, Validation Acc: 0.9113923907279968\n",
      "Epochs 33:\n",
      "        Train loss: 0.07132040514655964, Validation loss: 0.2840599632715877\n",
      "        Train Acc: 0.9743606448173523, Validation Acc: 0.9242483973503113\n",
      "Epochs 34:\n",
      "        Train loss: 0.06862605626687712, Validation loss: 0.3416873488245131\n",
      "        Train Acc: 0.9759271144866943, Validation Acc: 0.9151503443717957\n",
      "Epochs 35:\n",
      "        Train loss: 0.06673235643435926, Validation loss: 0.34534534557333474\n",
      "        Train Acc: 0.9767862558364868, Validation Acc: 0.913469135761261\n",
      "Epochs 36:\n",
      "        Train loss: 0.06190928742003715, Validation loss: 0.3369596540173398\n",
      "        Train Acc: 0.9780371189117432, Validation Acc: 0.9157436490058899\n",
      "Epochs 37:\n",
      "        Train loss: 0.056884391233325005, Validation loss: 0.31125584103261367\n",
      "        Train Acc: 0.9803548455238342, Validation Acc: 0.9211827516555786\n",
      "Epochs 38:\n",
      "        Train loss: 0.058221627376935516, Validation loss: 0.34250938609431064\n",
      "        Train Acc: 0.9797194600105286, Validation Acc: 0.9142602682113647\n",
      "Epochs 39:\n",
      "        Train loss: 0.05870522936577421, Validation loss: 0.33078867668592477\n",
      "        Train Acc: 0.9791560173034668, Validation Acc: 0.9189082384109497\n",
      "Epochs 40:\n",
      "        Train loss: 0.05727710649180595, Validation loss: 0.2955166167945047\n",
      "        Train Acc: 0.9797274470329285, Validation Acc: 0.9242483973503113\n",
      "Epochs 41:\n",
      "        Train loss: 0.05164014038575046, Validation loss: 0.33899619750961474\n",
      "        Train Acc: 0.9825447201728821, Validation Acc: 0.9228639006614685\n",
      "Epochs 42:\n",
      "        Train loss: 0.05201936791748609, Validation loss: 0.33177726876132096\n",
      "        Train Acc: 0.9820652008056641, Validation Acc: 0.9210838675498962\n",
      "Epochs 43:\n",
      "        Train loss: 0.057444233160294456, Validation loss: 0.35707982695555385\n",
      "        Train Acc: 0.9798753261566162, Validation Acc: 0.9176226258277893\n",
      "Epochs 44:\n",
      "        Train loss: 0.054209443136735265, Validation loss: 0.2934070069201385\n",
      "        Train Acc: 0.9811540842056274, Validation Acc: 0.925929605960846\n",
      "Epochs 45:\n",
      "        Train loss: 0.05018232222479742, Validation loss: 0.34920325295268734\n",
      "        Train Acc: 0.982532799243927, Validation Acc: 0.9153481125831604\n",
      "Epochs 46:\n",
      "        Train loss: 0.04266768941165084, Validation loss: 0.336980822625794\n",
      "        Train Acc: 0.9850822687149048, Validation Acc: 0.9176226258277893\n",
      "Epochs 47:\n",
      "        Train loss: 0.04088250363109838, Validation loss: 0.3129117639758919\n",
      "        Train Acc: 0.9852421283721924, Validation Acc: 0.925039529800415\n",
      "Epochs 48:\n",
      "        Train loss: 0.04623992025287693, Validation loss: 0.3418189613973793\n",
      "        Train Acc: 0.9838115572929382, Validation Acc: 0.9216772317886353\n",
      "Epochs 49:\n",
      "        Train loss: 0.04365500727730334, Validation loss: 0.35136089099075973\n",
      "        Train Acc: 0.9846227169036865, Validation Acc: 0.9244462251663208\n",
      "Epochs 50:\n",
      "        Train loss: 0.04540478195066152, Validation loss: 0.3209695624588411\n",
      "        Train Acc: 0.9844828844070435, Validation Acc: 0.925632894039154\n",
      "Epochs 51:\n",
      "        Train loss: 0.045334134018048644, Validation loss: 0.35834626608257053\n",
      "        Train Acc: 0.9847346544265747, Validation Acc: 0.9223694801330566\n",
      "Epochs 52:\n",
      "        Train loss: 0.042526124610953855, Validation loss: 0.31608810596450976\n",
      "        Train Acc: 0.9852342009544373, Validation Acc: 0.9273141026496887\n",
      "Epochs 53:\n",
      "        Train loss: 0.04295454823704975, Validation loss: 0.34683634237020833\n",
      "        Train Acc: 0.9850264191627502, Validation Acc: 0.922468364238739\n",
      "Epochs 54:\n",
      "        Train loss: 0.040107568058416324, Validation loss: 0.3511030723965621\n",
      "        Train Acc: 0.9859215021133423, Validation Acc: 0.922468364238739\n",
      "Epochs 55:\n",
      "        Train loss: 0.04031548642730841, Validation loss: 0.41956764832139015\n",
      "        Train Acc: 0.9857416749000549, Validation Acc: 0.9110957384109497\n",
      "Epochs 56:\n",
      "        Train loss: 0.03884061008823983, Validation loss: 0.344428843146638\n",
      "        Train Acc: 0.9862492084503174, Validation Acc: 0.9264240264892578\n",
      "Epochs 57:\n",
      "        Train loss: 0.040465583095548534, Validation loss: 0.3299914030240306\n",
      "        Train Acc: 0.9856617450714111, Validation Acc: 0.9295886158943176\n",
      "Epochs 58:\n",
      "        Train loss: 0.03730187667986316, Validation loss: 0.3383090018377274\n",
      "        Train Acc: 0.9873521327972412, Validation Acc: 0.926522970199585\n",
      "Epochs 59:\n",
      "        Train loss: 0.03493979011657541, Validation loss: 0.3554839510706407\n",
      "        Train Acc: 0.9881753325462341, Validation Acc: 0.9231606125831604\n"
     ]
    }
   ],
   "source": [
    "train_loss_history = []\n",
    "train_acc_history = []\n",
    "validation_loss_history = []\n",
    "validation_acc_history = []\n",
    "\n",
    "for epoch in range(60):\n",
    "  train_loss = 0.0\n",
    "  train_acc = 0.0\n",
    "  validation_loss = 0.0\n",
    "  validation_acc = 0.0\n",
    "\n",
    "  model.train()\n",
    "  for i, data in enumerate(trainDataLoder):\n",
    "    images, labels = data\n",
    "    images = images.cuda()\n",
    "    labels = labels.cuda()\n",
    "    optimizer.zero_grad()\n",
    "    predicted_labels = model(images) ## forward pass\n",
    "    fit = loss(predicted_labels, labels)  ## calculate loss\n",
    "    fit.backward() ## backprop\n",
    "    \n",
    "#     nn.utils.clip_grad_value_(model.parameters(), 0.1)\n",
    "    \n",
    "    optimizer.step()  ## calculate gradients and updates weights\n",
    "    train_loss += fit.item()\n",
    "    train_acc += calculate_accuracy(predicted_labels, labels)\n",
    "\n",
    "  model.eval()\n",
    "  for i, data in enumerate(validationDataLoder):\n",
    "    with torch.no_grad():\n",
    "      images, labels = data\n",
    "      images = images.cuda()\n",
    "      labels = labels.cuda()\n",
    "      predicted_labels = model(images)\n",
    "      fit = loss(predicted_labels, labels)\n",
    "      validation_loss += fit.item()\n",
    "      validation_acc += calculate_accuracy(predicted_labels, labels)\n",
    "\n",
    "  train_loss = train_loss/len(trainDataLoder)\n",
    "  validation_loss = validation_loss/len(validationDataLoder)\n",
    "  train_acc = train_acc/len(trainDataLoder)\n",
    "  validation_acc = validation_acc/len(validationDataLoder)\n",
    "\n",
    "  train_loss_history.append(train_loss)\n",
    "  validation_loss_history.append(validation_loss)\n",
    "  train_acc_history.append(train_acc)\n",
    "  validation_acc_history.append(validation_acc)\n",
    "\n",
    "  print(f'Epochs {epoch}:')\n",
    "  print(f'        Train loss: {train_loss}, Validation loss: {validation_loss}')\n",
    "  print(f'        Train Acc: {train_acc}, Validation Acc: {validation_acc}')\n",
    "\n",
    "  if (epoch+1)%20==0:\n",
    "     torch.save(model.state_dict(), f'model_{epoch+1}.pt')"
   ]
  },
  {
   "cell_type": "code",
   "execution_count": 15,
   "id": "2fbd8c3e",
   "metadata": {
    "execution": {
     "iopub.execute_input": "2024-04-09T18:17:35.271022Z",
     "iopub.status.busy": "2024-04-09T18:17:35.270395Z",
     "iopub.status.idle": "2024-04-09T18:17:35.306397Z",
     "shell.execute_reply": "2024-04-09T18:17:35.305494Z"
    },
    "papermill": {
     "duration": 0.054445,
     "end_time": "2024-04-09T18:17:35.308345",
     "exception": false,
     "start_time": "2024-04-09T18:17:35.253900",
     "status": "completed"
    },
    "tags": []
   },
   "outputs": [],
   "source": [
    "torch.save(model.state_dict(), 'model.pt')"
   ]
  },
  {
   "cell_type": "code",
   "execution_count": null,
   "id": "0a3ff51b",
   "metadata": {
    "papermill": {
     "duration": 0.015046,
     "end_time": "2024-04-09T18:17:35.338715",
     "exception": false,
     "start_time": "2024-04-09T18:17:35.323669",
     "status": "completed"
    },
    "tags": []
   },
   "outputs": [],
   "source": []
  }
 ],
 "metadata": {
  "accelerator": "GPU",
  "colab": {
   "gpuType": "T4",
   "provenance": []
  },
  "kaggle": {
   "accelerator": "gpu",
   "dataSources": [
    {
     "databundleVersionId": 8112053,
     "sourceId": 73233,
     "sourceType": "competition"
    },
    {
     "datasetId": 4759641,
     "sourceId": 8067274,
     "sourceType": "datasetVersion"
    }
   ],
   "dockerImageVersionId": 30674,
   "isGpuEnabled": true,
   "isInternetEnabled": true,
   "language": "python",
   "sourceType": "notebook"
  },
  "kernelspec": {
   "display_name": "Python 3",
   "language": "python",
   "name": "python3"
  },
  "language_info": {
   "codemirror_mode": {
    "name": "ipython",
    "version": 3
   },
   "file_extension": ".py",
   "mimetype": "text/x-python",
   "name": "python",
   "nbconvert_exporter": "python",
   "pygments_lexer": "ipython3",
   "version": "3.10.13"
  },
  "papermill": {
   "default_parameters": {},
   "duration": 2923.473575,
   "end_time": "2024-04-09T18:17:37.771104",
   "environment_variables": {},
   "exception": null,
   "input_path": "__notebook__.ipynb",
   "output_path": "__notebook__.ipynb",
   "parameters": {},
   "start_time": "2024-04-09T17:28:54.297529",
   "version": "2.5.0"
  }
 },
 "nbformat": 4,
 "nbformat_minor": 5
}
